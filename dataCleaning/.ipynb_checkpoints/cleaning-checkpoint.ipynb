{
 "cells": [
  {
   "cell_type": "code",
   "execution_count": 2,
   "metadata": {},
   "outputs": [
    {
     "data": {
      "text/html": [
       "<div>\n",
       "<style scoped>\n",
       "    .dataframe tbody tr th:only-of-type {\n",
       "        vertical-align: middle;\n",
       "    }\n",
       "\n",
       "    .dataframe tbody tr th {\n",
       "        vertical-align: top;\n",
       "    }\n",
       "\n",
       "    .dataframe thead th {\n",
       "        text-align: right;\n",
       "    }\n",
       "</style>\n",
       "<table border=\"1\" class=\"dataframe\">\n",
       "  <thead>\n",
       "    <tr style=\"text-align: right;\">\n",
       "      <th></th>\n",
       "      <th>ID</th>\n",
       "      <th>Suc_flag</th>\n",
       "      <th>ARPU</th>\n",
       "      <th>PromCnt12</th>\n",
       "      <th>PromCnt36</th>\n",
       "      <th>PromCntMsg12</th>\n",
       "      <th>PromCntMsg36</th>\n",
       "      <th>Class</th>\n",
       "      <th>Age</th>\n",
       "      <th>Gender</th>\n",
       "      <th>HomeOwner</th>\n",
       "      <th>AvgARPU</th>\n",
       "      <th>AvgHomeValue</th>\n",
       "      <th>AvgIncome</th>\n",
       "    </tr>\n",
       "  </thead>\n",
       "  <tbody>\n",
       "    <tr>\n",
       "      <th>0</th>\n",
       "      <td>12</td>\n",
       "      <td>1</td>\n",
       "      <td>50.0</td>\n",
       "      <td>6</td>\n",
       "      <td>10</td>\n",
       "      <td>2</td>\n",
       "      <td>3</td>\n",
       "      <td>4</td>\n",
       "      <td>57.0</td>\n",
       "      <td>M</td>\n",
       "      <td>H</td>\n",
       "      <td>49.894904</td>\n",
       "      <td>33400</td>\n",
       "      <td>39460</td>\n",
       "    </tr>\n",
       "    <tr>\n",
       "      <th>1</th>\n",
       "      <td>53</td>\n",
       "      <td>0</td>\n",
       "      <td>NaN</td>\n",
       "      <td>5</td>\n",
       "      <td>9</td>\n",
       "      <td>1</td>\n",
       "      <td>4</td>\n",
       "      <td>3</td>\n",
       "      <td>55.0</td>\n",
       "      <td>M</td>\n",
       "      <td>H</td>\n",
       "      <td>48.574742</td>\n",
       "      <td>37600</td>\n",
       "      <td>33545</td>\n",
       "    </tr>\n",
       "    <tr>\n",
       "      <th>2</th>\n",
       "      <td>67</td>\n",
       "      <td>1</td>\n",
       "      <td>25.0</td>\n",
       "      <td>6</td>\n",
       "      <td>11</td>\n",
       "      <td>2</td>\n",
       "      <td>4</td>\n",
       "      <td>1</td>\n",
       "      <td>57.0</td>\n",
       "      <td>F</td>\n",
       "      <td>H</td>\n",
       "      <td>49.272646</td>\n",
       "      <td>100400</td>\n",
       "      <td>42091</td>\n",
       "    </tr>\n",
       "    <tr>\n",
       "      <th>3</th>\n",
       "      <td>71</td>\n",
       "      <td>1</td>\n",
       "      <td>80.0</td>\n",
       "      <td>7</td>\n",
       "      <td>10</td>\n",
       "      <td>2</td>\n",
       "      <td>4</td>\n",
       "      <td>1</td>\n",
       "      <td>52.0</td>\n",
       "      <td>F</td>\n",
       "      <td>H</td>\n",
       "      <td>47.334953</td>\n",
       "      <td>39900</td>\n",
       "      <td>39313</td>\n",
       "    </tr>\n",
       "    <tr>\n",
       "      <th>4</th>\n",
       "      <td>142</td>\n",
       "      <td>1</td>\n",
       "      <td>15.0</td>\n",
       "      <td>6</td>\n",
       "      <td>11</td>\n",
       "      <td>2</td>\n",
       "      <td>4</td>\n",
       "      <td>1</td>\n",
       "      <td>NaN</td>\n",
       "      <td>F</td>\n",
       "      <td>U</td>\n",
       "      <td>47.827404</td>\n",
       "      <td>47500</td>\n",
       "      <td>0</td>\n",
       "    </tr>\n",
       "  </tbody>\n",
       "</table>\n",
       "</div>"
      ],
      "text/plain": [
       "    ID  Suc_flag  ARPU  PromCnt12  PromCnt36  PromCntMsg12  PromCntMsg36  \\\n",
       "0   12         1  50.0          6         10             2             3   \n",
       "1   53         0   NaN          5          9             1             4   \n",
       "2   67         1  25.0          6         11             2             4   \n",
       "3   71         1  80.0          7         10             2             4   \n",
       "4  142         1  15.0          6         11             2             4   \n",
       "\n",
       "   Class   Age Gender HomeOwner    AvgARPU  AvgHomeValue  AvgIncome  \n",
       "0      4  57.0      M         H  49.894904         33400      39460  \n",
       "1      3  55.0      M         H  48.574742         37600      33545  \n",
       "2      1  57.0      F         H  49.272646        100400      42091  \n",
       "3      1  52.0      F         H  47.334953         39900      39313  \n",
       "4      1   NaN      F         U  47.827404         47500          0  "
      ]
     },
     "execution_count": 2,
     "metadata": {},
     "output_type": "execute_result"
    }
   ],
   "source": [
    "import pandas as pd\n",
    "import numpy as np\n",
    "camp = pd.read_csv('./teleco_camp_orig.csv')\n",
    "camp.head()"
   ]
  },
  {
   "cell_type": "code",
   "execution_count": 3,
   "metadata": {},
   "outputs": [
    {
     "name": "stdout",
     "output_type": "stream",
     "text": [
      "<class 'pandas.core.frame.DataFrame'>\n",
      "RangeIndex: 9686 entries, 0 to 9685\n",
      "Data columns (total 14 columns):\n",
      " #   Column        Non-Null Count  Dtype  \n",
      "---  ------        --------------  -----  \n",
      " 0   ID            9686 non-null   int64  \n",
      " 1   Suc_flag      9686 non-null   int64  \n",
      " 2   ARPU          4843 non-null   float64\n",
      " 3   PromCnt12     9686 non-null   int64  \n",
      " 4   PromCnt36     9686 non-null   int64  \n",
      " 5   PromCntMsg12  9686 non-null   int64  \n",
      " 6   PromCntMsg36  9686 non-null   int64  \n",
      " 7   Class         9686 non-null   int64  \n",
      " 8   Age           7279 non-null   float64\n",
      " 9   Gender        9686 non-null   object \n",
      " 10  HomeOwner     9686 non-null   object \n",
      " 11  AvgARPU       9686 non-null   float64\n",
      " 12  AvgHomeValue  9686 non-null   int64  \n",
      " 13  AvgIncome     9686 non-null   int64  \n",
      "dtypes: float64(3), int64(9), object(2)\n",
      "memory usage: 1.0+ MB\n"
     ]
    }
   ],
   "source": [
    "camp.info()"
   ]
  },
  {
   "cell_type": "code",
   "execution_count": 4,
   "metadata": {},
   "outputs": [],
   "source": [
    "import matplotlib.pyplot as plt"
   ]
  },
  {
   "cell_type": "markdown",
   "metadata": {},
   "source": [
    "异常值处理"
   ]
  },
  {
   "cell_type": "code",
   "execution_count": 5,
   "metadata": {},
   "outputs": [
    {
     "data": {
      "text/plain": [
       "count      9686.000000\n",
       "mean      40491.444249\n",
       "std       28707.494146\n",
       "min           0.000000\n",
       "25%       24464.000000\n",
       "50%       43100.000000\n",
       "75%       56876.000000\n",
       "max      200001.000000\n",
       "Name: AvgIncome, dtype: float64"
      ]
     },
     "execution_count": 5,
     "metadata": {},
     "output_type": "execute_result"
    },
    {
     "data": {
      "image/png": "[encoded data removed]",
      "text/plain": [
       "<Figure size 432x288 with 1 Axes>"
      ]
     },
     "metadata": {
      "needs_background": "light"
     },
     "output_type": "display_data"
    }
   ],
   "source": [
    "plt.hist(camp['AvgIncome'], bins=20)\n",
    "camp['AvgIncome'].describe(include='all')"
   ]
  },
  {
   "cell_type": "markdown",
   "metadata": {},
   "source": [
    "平均收入为0的人数很多，收入不能为0，置为null值"
   ]
  },
  {
   "cell_type": "code",
   "execution_count": 6,
   "metadata": {},
   "outputs": [],
   "source": [
    "camp['AvgIncome'].replace({0: np.NaN}, inplace=True)"
   ]
  },
  {
   "cell_type": "code",
   "execution_count": 7,
   "metadata": {},
   "outputs": [
    {
     "name": "stderr",
     "output_type": "stream",
     "text": [
      "C:\\Users\\TurboLoong\\Anaconda3\\lib\\site-packages\\numpy\\lib\\histograms.py:839: RuntimeWarning: invalid value encountered in greater_equal\n",
      "  keep = (tmp_a >= first_edge)\n",
      "C:\\Users\\TurboLoong\\Anaconda3\\lib\\site-packages\\numpy\\lib\\histograms.py:840: RuntimeWarning: invalid value encountered in less_equal\n",
      "  keep &= (tmp_a <= last_edge)\n"
     ]
    },
    {
     "data": {
      "text/plain": [
       "(array([1.000e+00, 2.900e+01, 4.560e+02, 1.750e+03, 2.016e+03, 1.175e+03,\n",
       "        8.460e+02, 4.580e+02, 2.580e+02, 1.150e+02, 1.090e+02, 3.100e+01,\n",
       "        3.300e+01, 1.800e+01, 5.000e+00, 1.300e+01, 7.000e+00, 7.000e+00,\n",
       "        0.000e+00, 2.000e+00]),\n",
       " array([  2499. ,  12374.1,  22249.2,  32124.3,  41999.4,  51874.5,\n",
       "         61749.6,  71624.7,  81499.8,  91374.9, 101250. , 111125.1,\n",
       "        121000.2, 130875.3, 140750.4, 150625.5, 160500.6, 170375.7,\n",
       "        180250.8, 190125.9, 200001. ]),\n",
       " <a list of 20 Patch objects>)"
      ]
     },
     "execution_count": 7,
     "metadata": {},
     "output_type": "execute_result"
    },
    {
     "data": {
      "image/png": "[encoded data removed]",
      "text/plain": [
       "<Figure size 432x288 with 1 Axes>"
      ]
     },
     "metadata": {
      "needs_background": "light"
     },
     "output_type": "display_data"
    }
   ],
   "source": [
    "plt.hist(camp['AvgIncome'], bins=20,range=(camp.AvgIncome.min(),camp.AvgIncome.max())) # 数据中有空值，要设置上下限  "
   ]
  },
  {
   "cell_type": "code",
   "execution_count": 8,
   "metadata": {},
   "outputs": [],
   "source": [
    "camp['AvgHomeValue'].replace({0: np.NaN}, inplace=True)"
   ]
  },
  {
   "cell_type": "markdown",
   "metadata": {},
   "source": [
    "重复值检查"
   ]
  },
  {
   "cell_type": "code",
   "execution_count": 9,
   "metadata": {},
   "outputs": [
    {
     "data": {
      "text/plain": [
       "0       False\n",
       "1       False\n",
       "2       False\n",
       "3       False\n",
       "4       False\n",
       "        ...  \n",
       "9681    False\n",
       "9682    False\n",
       "9683    False\n",
       "9684    False\n",
       "9685    False\n",
       "Length: 9686, dtype: bool"
      ]
     },
     "execution_count": 9,
     "metadata": {},
     "output_type": "execute_result"
    }
   ],
   "source": [
    "camp.duplicated()"
   ]
  },
  {
   "cell_type": "code",
   "execution_count": null,
   "metadata": {},
   "outputs": [],
   "source": []
  }
 ],
 "metadata": {
  "kernelspec": {
   "display_name": "Python [conda env:root] *",
   "language": "python",
   "name": "conda-root-py"
  },
  "language_info": {
   "codemirror_mode": {
    "name": "ipython",
    "version": 3
   },
   "file_extension": ".py",
   "mimetype": "text/x-python",
   "name": "python",
   "nbconvert_exporter": "python",
   "pygments_lexer": "ipython3",
   "version": "3.7.4"
  }
 },
 "nbformat": 4,
 "nbformat_minor": 4
}
